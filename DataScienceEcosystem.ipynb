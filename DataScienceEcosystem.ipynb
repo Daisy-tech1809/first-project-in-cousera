{
 "cells": [
  {
   "cell_type": "markdown",
   "id": "efdc0a03-2903-4e5a-9807-2137ddb62749",
   "metadata": {},
   "source": [
    "# H1: Data Science Tools and Ecosystem\n",
    "In this notebook, Data Science Tools and Ecosystem are summerized \n",
    "Some of the popular languages that Data Scientists use are:\n",
    "1. python\n",
    "2. SQL\n",
    "3. R\n",
    "Some of the commonly used libraries used by Data Scientists include:\n",
    "1. NumPy\n",
    "2. Pandas\n",
    "3. PyTorch\n",
    "# H2: Markdown cell with a table Data science Tools\n",
    "| Data science Tools |\n",
    "|--------------------|\n",
    "| Git |\n",
    "| Eclipse |\n",
    "| Visual studio code |\n",
    "# H3: Below are a few examples of evaluating arithmetic expressions in Python"
   ]
  },
  {
   "cell_type": "markdown",
   "id": "a1f9a48d-0d37-465f-a295-a6981191eedb",
   "metadata": {},
   "source": [
    "(3*4)+5"
   ]
  },
  {
   "cell_type": "markdown",
   "id": "4e6fc1dd-0471-4ae7-953d-ad9f30318df9",
   "metadata": {},
   "source": [
    "This a simple arithmetic expression to mutiply then add integers"
   ]
  },
  {
   "cell_type": "code",
   "execution_count": 1,
   "id": "04be0241-1b12-4c45-9260-89574e71da25",
   "metadata": {
    "tags": []
   },
   "outputs": [
    {
     "data": {
      "text/plain": [
       "17"
      ]
     },
     "execution_count": 1,
     "metadata": {},
     "output_type": "execute_result"
    }
   ],
   "source": [
    "(3*4)+5"
   ]
  },
  {
   "cell_type": "code",
   "execution_count": null,
   "id": "5bbee7fe-be63-4d7a-8170-9aede53c7467",
   "metadata": {},
   "outputs": [],
   "source": [
    "This will convert 200 minutes to hours by diving by 60"
   ]
  },
  {
   "cell_type": "code",
   "execution_count": 3,
   "id": "a1dd39e9-0c5a-470f-a70a-b9247ebc0a4c",
   "metadata": {
    "tags": []
   },
   "outputs": [
    {
     "data": {
      "text/plain": [
       "3.3333333333333335"
      ]
     },
     "execution_count": 3,
     "metadata": {},
     "output_type": "execute_result"
    }
   ],
   "source": [
    "200/60"
   ]
  },
  {
   "cell_type": "code",
   "execution_count": null,
   "id": "bcdeee26-cf09-409d-8d35-bfd62318d1ed",
   "metadata": {},
   "outputs": [],
   "source": [
    "In this notebook, Data Science Tools and Ecosystem are summarized."
   ]
  },
  {
   "cell_type": "code",
   "execution_count": null,
   "id": "f68a738c-cde7-4832-b618-98a3b5b00d0d",
   "metadata": {},
   "outputs": [],
   "source": [
    "Objectives:List popular languages for Data Science\n",
    "+ Python\n",
    "+ Scala\n",
    "+ SQL\n",
    "    "
   ]
  },
  {
   "cell_type": "code",
   "execution_count": null,
   "id": "26cba407-5f4e-4ae9-a3da-8da3b6c77b39",
   "metadata": {},
   "outputs": [],
   "source": [
    "## H2: Pham Ngoc Huyen"
   ]
  }
 ],
 "metadata": {
  "kernelspec": {
   "display_name": "Python",
   "language": "python",
   "name": "conda-env-python-py"
  },
  "language_info": {
   "codemirror_mode": {
    "name": "ipython",
    "version": 3
   },
   "file_extension": ".py",
   "mimetype": "text/x-python",
   "name": "python",
   "nbconvert_exporter": "python",
   "pygments_lexer": "ipython3",
   "version": "3.7.12"
  },
  "toc-autonumbering": false,
  "toc-showcode": false,
  "toc-showmarkdowntxt": false
 },
 "nbformat": 4,
 "nbformat_minor": 5
}
